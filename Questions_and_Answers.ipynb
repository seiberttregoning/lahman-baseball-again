{
 "cells": [
  {
   "cell_type": "markdown",
   "metadata": {},
   "source": [
    "## Imports"
   ]
  },
  {
   "cell_type": "code",
   "execution_count": 1,
   "metadata": {},
   "outputs": [
    {
     "data": {
      "text/plain": [
       "True"
      ]
     },
     "execution_count": 1,
     "metadata": {},
     "output_type": "execute_result"
    }
   ],
   "source": [
    "import os\n",
    "\n",
    "import pandas as pd\n",
    "\n",
    "import matplotlib.pyplot as plt\n",
    "\n",
    "from sqlalchemy import create_engine\n",
    "\n",
    "from dotenv import load_dotenv\n",
    "load_dotenv()"
   ]
  },
  {
   "cell_type": "markdown",
   "metadata": {},
   "source": [
    "## Connection"
   ]
  },
  {
   "cell_type": "code",
   "execution_count": 2,
   "metadata": {},
   "outputs": [],
   "source": [
    "username = os.getenv('POSTGRES_USERNAME')\n",
    "password = os.getenv('POSTGRES_PASSWORD')\n",
    "\n",
    "\n",
    "postgres_connection_string = \"postgres://{username}:{password}@{host}:{port}/{database}?gssencmode=disable\".format(\n",
    "    username=username,\n",
    "    password=password,\n",
    "    host=\"localhost\",\n",
    "    port=\"5432\",\n",
    "    database=\"lahman_baseball\"\n",
    ")\n",
    "\n",
    "engine = create_engine(postgres_connection_string)"
   ]
  },
  {
   "cell_type": "markdown",
   "metadata": {},
   "source": [
    "## Table Retriever"
   ]
  },
  {
   "cell_type": "code",
   "execution_count": 3,
   "metadata": {},
   "outputs": [],
   "source": [
    "def get_table(table_name):\n",
    "    \"\"\"This function uses the connection to lahman_baseball database to return a dataframe of all the data in the table\"\"\"\n",
    "    sql = f'SELECT * FROM {table_name};'\n",
    "    return pd.read_sql(sql, con=engine)"
   ]
  },
  {
   "cell_type": "markdown",
   "metadata": {},
   "source": [
    "---\n",
    "# Database Documentation: http://www.seanlahman.com/files/database/readme2017.txt\n",
    "---"
   ]
  },
  {
   "cell_type": "markdown",
   "metadata": {},
   "source": [
    "---\n",
    "# Question 1: What range of years does the provided database cover?"
   ]
  },
  {
   "cell_type": "markdown",
   "metadata": {},
   "source": [
    "### The documentation indicates that People, Batting, Pitching, and Fielding are the main tables"
   ]
  },
  {
   "cell_type": "code",
   "execution_count": 28,
   "metadata": {},
   "outputs": [],
   "source": [
    "people_df = get_table('people')\n",
    "\n",
    "batting_df = get_table('batting')\n",
    "\n",
    "pitching_df = get_table('pitching')\n",
    "\n",
    "fielding_df = get_table('fielding')"
   ]
  },
  {
   "cell_type": "code",
   "execution_count": 29,
   "metadata": {},
   "outputs": [
    {
     "data": {
      "text/plain": [
       "Index(['playerid', 'birthyear', 'birthmonth', 'birthday', 'birthcountry',\n",
       "       'birthstate', 'birthcity', 'deathyear', 'deathmonth', 'deathday',\n",
       "       'deathcountry', 'deathstate', 'deathcity', 'namefirst', 'namelast',\n",
       "       'namegiven', 'weight', 'height', 'bats', 'throws', 'debut', 'finalgame',\n",
       "       'retroid', 'bbrefid'],\n",
       "      dtype='object')"
      ]
     },
     "execution_count": 29,
     "metadata": {},
     "output_type": "execute_result"
    }
   ],
   "source": [
    "# Only birthyear in player table, not really 'baseball statistics data'\n",
    "\n",
    "people_df.columns"
   ]
  },
  {
   "cell_type": "code",
   "execution_count": 35,
   "metadata": {},
   "outputs": [
    {
     "name": "stdout",
     "output_type": "stream",
     "text": [
      "Batting Table Year Min: 1871\n",
      "\n",
      "Batting Table Year Max: 2016\n"
     ]
    }
   ],
   "source": [
    "# Batting table:\n",
    "\n",
    "print('Batting Table Year Min:', batting_df.yearid.min())\n",
    "print()\n",
    "print('Batting Table Year Max:', batting_df.yearid.max())"
   ]
  },
  {
   "cell_type": "code",
   "execution_count": 36,
   "metadata": {},
   "outputs": [
    {
     "name": "stdout",
     "output_type": "stream",
     "text": [
      "Pitching Table Year Min: 1871\n",
      "\n",
      "Pitching Table Year Max: 2016\n"
     ]
    }
   ],
   "source": [
    "# Pitching table:\n",
    "\n",
    "print('Pitching Table Year Min:', pitching_df.yearid.min())\n",
    "print()\n",
    "print('Pitching Table Year Max:', pitching_df.yearid.max())"
   ]
  },
  {
   "cell_type": "code",
   "execution_count": 37,
   "metadata": {},
   "outputs": [
    {
     "name": "stdout",
     "output_type": "stream",
     "text": [
      "Fielding Table Year Min: 1871\n",
      "\n",
      "Fielding Table Year Max: 2016\n"
     ]
    }
   ],
   "source": [
    "# Fielding table:\n",
    "\n",
    "print('Fielding Table Year Min:', fielding_df.yearid.min())\n",
    "print()\n",
    "print('Fielding Table Year Max:', fielding_df.yearid.max())"
   ]
  },
  {
   "cell_type": "markdown",
   "metadata": {},
   "source": [
    "## Answer: The main tables cover 1871 - 2016\n",
    "---"
   ]
  },
  {
   "cell_type": "markdown",
   "metadata": {},
   "source": [
    "---\n",
    "# Question 2: Find the name and height of the shortest player in the database. How many games did he play in? What is the name of the team for which he played?"
   ]
  },
  {
   "cell_type": "code",
   "execution_count": 38,
   "metadata": {},
   "outputs": [],
   "source": [
    "people_df = get_table('people')\n",
    "\n",
    "appearances_df = get_table('appearances')\n",
    "\n",
    "teams_df = get_table('teams')"
   ]
  },
  {
   "cell_type": "code",
   "execution_count": 47,
   "metadata": {},
   "outputs": [
    {
     "data": {
      "text/html": [
       "<div>\n",
       "<style scoped>\n",
       "    .dataframe tbody tr th:only-of-type {\n",
       "        vertical-align: middle;\n",
       "    }\n",
       "\n",
       "    .dataframe tbody tr th {\n",
       "        vertical-align: top;\n",
       "    }\n",
       "\n",
       "    .dataframe thead th {\n",
       "        text-align: right;\n",
       "    }\n",
       "</style>\n",
       "<table border=\"1\" class=\"dataframe\">\n",
       "  <thead>\n",
       "    <tr style=\"text-align: right;\">\n",
       "      <th></th>\n",
       "      <th>playerid</th>\n",
       "      <th>namefirst</th>\n",
       "      <th>namelast</th>\n",
       "      <th>namegiven</th>\n",
       "      <th>height</th>\n",
       "    </tr>\n",
       "  </thead>\n",
       "  <tbody>\n",
       "    <tr>\n",
       "      <th>5843</th>\n",
       "      <td>gaedeed01</td>\n",
       "      <td>Eddie</td>\n",
       "      <td>Gaedel</td>\n",
       "      <td>Edward Carl</td>\n",
       "      <td>43.0</td>\n",
       "    </tr>\n",
       "  </tbody>\n",
       "</table>\n",
       "</div>"
      ],
      "text/plain": [
       "       playerid namefirst namelast    namegiven  height\n",
       "5843  gaedeed01     Eddie   Gaedel  Edward Carl    43.0"
      ]
     },
     "execution_count": 47,
     "metadata": {},
     "output_type": "execute_result"
    }
   ],
   "source": [
    "people_df[people_df.height == people_df.height.min()].loc[:,['playerid', 'namefirst', 'namelast', 'namegiven', 'height']]"
   ]
  },
  {
   "cell_type": "code",
   "execution_count": 70,
   "metadata": {},
   "outputs": [],
   "source": [
    "short_id = people_df[people_df.height == people_df.height.min()]['playerid'].to_string(index=False).strip()"
   ]
  },
  {
   "cell_type": "code",
   "execution_count": 76,
   "metadata": {},
   "outputs": [
    {
     "name": "stdout",
     "output_type": "stream",
     "text": [
      "Number of games played:  1\n"
     ]
    }
   ],
   "source": [
    "print('Number of games played:', appearances_df[appearances_df.playerid == short_id]['g_all'].to_string(index=False))"
   ]
  },
  {
   "cell_type": "code",
   "execution_count": 80,
   "metadata": {},
   "outputs": [],
   "source": [
    "team_id = appearances_df[appearances_df.playerid == short_id]['teamid'].to_string(index=False).strip()"
   ]
  },
  {
   "cell_type": "code",
   "execution_count": 95,
   "metadata": {},
   "outputs": [
    {
     "data": {
      "text/plain": [
       "'St. Louis Browns'"
      ]
     },
     "execution_count": 95,
     "metadata": {},
     "output_type": "execute_result"
    }
   ],
   "source": [
    "teams_df.name[teams_df.teamid == team_id].head(1).to_string(index=False).strip()"
   ]
  },
  {
   "cell_type": "markdown",
   "metadata": {},
   "source": [
    "## Answer: Eddie Gaedel was the shortest player. His height was 43.0 inches (see documentation for units). He played 1 game for the St. Louis Browns\n",
    "---"
   ]
  },
  {
   "cell_type": "markdown",
   "metadata": {},
   "source": [
    "---\n",
    "# Question 3: Find all players in the database who played at Vanderbilt University. Create a list showing each player’s first and last names as well as the total salary they earned in the major leagues. Sort this list in descending order by the total salary earned. Which Vanderbilt player earned the most money in the majors?"
   ]
  },
  {
   "cell_type": "code",
   "execution_count": 98,
   "metadata": {},
   "outputs": [],
   "source": [
    "people_df = get_table('people')\n",
    "\n",
    "collegeplaying_df = get_table('collegeplaying')\n",
    "\n",
    "schools_df = get_table('schools')\n",
    "\n",
    "salaries_df = get_table('salaries')"
   ]
  },
  {
   "cell_type": "code",
   "execution_count": 104,
   "metadata": {},
   "outputs": [
    {
     "data": {
      "text/plain": [
       "'vandy'"
      ]
     },
     "execution_count": 104,
     "metadata": {},
     "output_type": "execute_result"
    }
   ],
   "source": [
    "# Getting the schoolid of Vanderbilt University from the Schools table\n",
    "\n",
    "vandy_id = schools_df.schoolid[schools_df.schoolname == 'Vanderbilt University'].to_string(index=False).strip()"
   ]
  },
  {
   "cell_type": "code",
   "execution_count": 110,
   "metadata": {},
   "outputs": [
    {
     "data": {
      "text/plain": [
       "array(['alvarpe01', 'baxtemi01', 'chrisni01', 'colliwi01', 'corajo01',\n",
       "       'embresl01', 'flahery01', 'grayso01', 'hendrha01', 'katama01',\n",
       "       'lewisje01', 'madissc01', 'minormi01', 'mooresc01', 'mossma01',\n",
       "       'pauljo01', 'priceda01', 'priorma01', 'richaan01', 'sandesc01',\n",
       "       'sewelri01', 'sowerje01', 'willimi01', 'zeidjo01'], dtype=object)"
      ]
     },
     "execution_count": 110,
     "metadata": {},
     "output_type": "execute_result"
    }
   ],
   "source": [
    "# Getting a list of playerids from collegeplaying table with the Vanderbilt Unviersity schoolid\n",
    "\n",
    "vandy_players = collegeplaying_df[collegeplaying_df.schoolid == vandy_id].playerid.unique()"
   ]
  },
  {
   "cell_type": "code",
   "execution_count": 113,
   "metadata": {},
   "outputs": [],
   "source": [
    "# Making a dataframe by narrowing people down to only the columns of interest for players with playerid in vandy_players\n",
    "\n",
    "vandy_people = people_df[people_df.playerid.isin(vandy_players)].loc[:,['playerid', 'namefirst', 'namelast']]"
   ]
  },
  {
   "cell_type": "code",
   "execution_count": 124,
   "metadata": {},
   "outputs": [],
   "source": [
    "# Summing salaries by playerid across all years\n",
    "\n",
    "salary_sum = salaries_df.groupby(by = 'playerid', as_index = False)['salary'].sum()"
   ]
  },
  {
   "cell_type": "code",
   "execution_count": 136,
   "metadata": {},
   "outputs": [
    {
     "data": {
      "text/html": [
       "<div>\n",
       "<style scoped>\n",
       "    .dataframe tbody tr th:only-of-type {\n",
       "        vertical-align: middle;\n",
       "    }\n",
       "\n",
       "    .dataframe tbody tr th {\n",
       "        vertical-align: top;\n",
       "    }\n",
       "\n",
       "    .dataframe thead th {\n",
       "        text-align: right;\n",
       "    }\n",
       "</style>\n",
       "<table border=\"1\" class=\"dataframe\">\n",
       "  <thead>\n",
       "    <tr style=\"text-align: right;\">\n",
       "      <th></th>\n",
       "      <th>playerid</th>\n",
       "      <th>namefirst</th>\n",
       "      <th>namelast</th>\n",
       "      <th>salary</th>\n",
       "    </tr>\n",
       "  </thead>\n",
       "  <tbody>\n",
       "    <tr>\n",
       "      <th>0</th>\n",
       "      <td>madissc01</td>\n",
       "      <td>Scotti</td>\n",
       "      <td>Madison</td>\n",
       "      <td>135000.0</td>\n",
       "    </tr>\n",
       "    <tr>\n",
       "      <th>1</th>\n",
       "      <td>sowerje01</td>\n",
       "      <td>Jeremy</td>\n",
       "      <td>Sowers</td>\n",
       "      <td>384800.0</td>\n",
       "    </tr>\n",
       "    <tr>\n",
       "      <th>2</th>\n",
       "      <td>chrisni01</td>\n",
       "      <td>Nick</td>\n",
       "      <td>Christiani</td>\n",
       "      <td>500000.0</td>\n",
       "    </tr>\n",
       "    <tr>\n",
       "      <th>3</th>\n",
       "      <td>katama01</td>\n",
       "      <td>Matt</td>\n",
       "      <td>Kata</td>\n",
       "      <td>1060000.0</td>\n",
       "    </tr>\n",
       "    <tr>\n",
       "      <th>4</th>\n",
       "      <td>lewisje01</td>\n",
       "      <td>Jensen</td>\n",
       "      <td>Lewis</td>\n",
       "      <td>1234000.0</td>\n",
       "    </tr>\n",
       "    <tr>\n",
       "      <th>5</th>\n",
       "      <td>grayso01</td>\n",
       "      <td>Sonny</td>\n",
       "      <td>Gray</td>\n",
       "      <td>1542500.0</td>\n",
       "    </tr>\n",
       "    <tr>\n",
       "      <th>6</th>\n",
       "      <td>baxtemi01</td>\n",
       "      <td>Mike</td>\n",
       "      <td>Baxter</td>\n",
       "      <td>2094418.0</td>\n",
       "    </tr>\n",
       "    <tr>\n",
       "      <th>7</th>\n",
       "      <td>pauljo01</td>\n",
       "      <td>Josh</td>\n",
       "      <td>Paul</td>\n",
       "      <td>2640000.0</td>\n",
       "    </tr>\n",
       "    <tr>\n",
       "      <th>8</th>\n",
       "      <td>flahery01</td>\n",
       "      <td>Ryan</td>\n",
       "      <td>Flaherty</td>\n",
       "      <td>4061000.0</td>\n",
       "    </tr>\n",
       "    <tr>\n",
       "      <th>9</th>\n",
       "      <td>corajo01</td>\n",
       "      <td>Joey</td>\n",
       "      <td>Cora</td>\n",
       "      <td>5622500.0</td>\n",
       "    </tr>\n",
       "    <tr>\n",
       "      <th>10</th>\n",
       "      <td>minormi01</td>\n",
       "      <td>Mike</td>\n",
       "      <td>Minor</td>\n",
       "      <td>6837500.0</td>\n",
       "    </tr>\n",
       "    <tr>\n",
       "      <th>11</th>\n",
       "      <td>sandesc01</td>\n",
       "      <td>Scott</td>\n",
       "      <td>Sanderson</td>\n",
       "      <td>10750000.0</td>\n",
       "    </tr>\n",
       "    <tr>\n",
       "      <th>12</th>\n",
       "      <td>priorma01</td>\n",
       "      <td>Mark</td>\n",
       "      <td>Prior</td>\n",
       "      <td>12800000.0</td>\n",
       "    </tr>\n",
       "    <tr>\n",
       "      <th>13</th>\n",
       "      <td>alvarpe01</td>\n",
       "      <td>Pedro</td>\n",
       "      <td>Alvarez</td>\n",
       "      <td>20681704.0</td>\n",
       "    </tr>\n",
       "    <tr>\n",
       "      <th>14</th>\n",
       "      <td>priceda01</td>\n",
       "      <td>David</td>\n",
       "      <td>Price</td>\n",
       "      <td>81851296.0</td>\n",
       "    </tr>\n",
       "  </tbody>\n",
       "</table>\n",
       "</div>"
      ],
      "text/plain": [
       "     playerid namefirst    namelast      salary\n",
       "0   madissc01    Scotti     Madison    135000.0\n",
       "1   sowerje01    Jeremy      Sowers    384800.0\n",
       "2   chrisni01      Nick  Christiani    500000.0\n",
       "3    katama01      Matt        Kata   1060000.0\n",
       "4   lewisje01    Jensen       Lewis   1234000.0\n",
       "5    grayso01     Sonny        Gray   1542500.0\n",
       "6   baxtemi01      Mike      Baxter   2094418.0\n",
       "7    pauljo01      Josh        Paul   2640000.0\n",
       "8   flahery01      Ryan    Flaherty   4061000.0\n",
       "9    corajo01      Joey        Cora   5622500.0\n",
       "10  minormi01      Mike       Minor   6837500.0\n",
       "11  sandesc01     Scott   Sanderson  10750000.0\n",
       "12  priorma01      Mark       Prior  12800000.0\n",
       "13  alvarpe01     Pedro     Alvarez  20681704.0\n",
       "14  priceda01     David       Price  81851296.0"
      ]
     },
     "execution_count": 136,
     "metadata": {},
     "output_type": "execute_result"
    }
   ],
   "source": [
    "vandy_salaries = pd.merge(vandy_people, salary_sum, how = 'inner', on='playerid') \\\n",
    "                          .sort_values(by = ['salary']) \\\n",
    "                          .reset_index(drop = True)\n",
    "\n",
    "vandy_salaries"
   ]
  },
  {
   "cell_type": "markdown",
   "metadata": {},
   "source": [
    "## Answer: David Price earned the most money in the majors. $81,851,296\n",
    "---"
   ]
  },
  {
   "cell_type": "markdown",
   "metadata": {},
   "source": [
    "---\n",
    "# Question 4: Using the fielding table, group players into three groups based on their position: label players with position OF as \"Outfield\", those with position \"SS\", \"1B\", \"2B\", and \"3B\" as \"Infield\", and those with position \"P\" or \"C\" as \"Battery\". Determine the number of putouts made by each of these three groups in 2016."
   ]
  },
  {
   "cell_type": "code",
   "execution_count": 4,
   "metadata": {},
   "outputs": [],
   "source": [
    "fielding_df = get_table('fielding')"
   ]
  },
  {
   "cell_type": "code",
   "execution_count": 81,
   "metadata": {},
   "outputs": [],
   "source": [
    "# Only need the year, postion, putouts, columns from fielding table for this question.\n",
    "\n",
    "field_pos_po = fielding_df.loc[:,['yearid', 'pos', 'po']]"
   ]
  },
  {
   "cell_type": "code",
   "execution_count": 82,
   "metadata": {},
   "outputs": [],
   "source": [
    "# Creating a dictionary to assign categories:\n",
    "\n",
    "category = {'OF':'Outfield', \n",
    "            'SS':'Infield', \n",
    "            '1B':'Infield',\n",
    "            '2B':'Infield',\n",
    "            '3B':'Infield',\n",
    "            'P' :'Battery',\n",
    "            'C' :'Battery'}"
   ]
  },
  {
   "cell_type": "code",
   "execution_count": 83,
   "metadata": {
    "scrolled": false
   },
   "outputs": [],
   "source": [
    "# Adding categories\n",
    "\n",
    "field_pos_po['category'] = field_pos_po['pos'].map(category)"
   ]
  },
  {
   "cell_type": "code",
   "execution_count": 84,
   "metadata": {},
   "outputs": [],
   "source": [
    "# Narrowing to 2016\n",
    "\n",
    "field_pos_po = field_pos_po.loc[field_pos_po.yearid == 2016]"
   ]
  },
  {
   "cell_type": "code",
   "execution_count": 87,
   "metadata": {},
   "outputs": [
    {
     "data": {
      "text/html": [
       "<div>\n",
       "<style scoped>\n",
       "    .dataframe tbody tr th:only-of-type {\n",
       "        vertical-align: middle;\n",
       "    }\n",
       "\n",
       "    .dataframe tbody tr th {\n",
       "        vertical-align: top;\n",
       "    }\n",
       "\n",
       "    .dataframe thead th {\n",
       "        text-align: right;\n",
       "    }\n",
       "</style>\n",
       "<table border=\"1\" class=\"dataframe\">\n",
       "  <thead>\n",
       "    <tr style=\"text-align: right;\">\n",
       "      <th></th>\n",
       "      <th>Category</th>\n",
       "      <th>Sum of Putouts in 2016</th>\n",
       "    </tr>\n",
       "  </thead>\n",
       "  <tbody>\n",
       "    <tr>\n",
       "      <th>0</th>\n",
       "      <td>Battery</td>\n",
       "      <td>41424</td>\n",
       "    </tr>\n",
       "    <tr>\n",
       "      <th>1</th>\n",
       "      <td>Infield</td>\n",
       "      <td>58934</td>\n",
       "    </tr>\n",
       "    <tr>\n",
       "      <th>2</th>\n",
       "      <td>Outfield</td>\n",
       "      <td>29560</td>\n",
       "    </tr>\n",
       "  </tbody>\n",
       "</table>\n",
       "</div>"
      ],
      "text/plain": [
       "   Category  Sum of Putouts in 2016\n",
       "0   Battery                   41424\n",
       "1   Infield                   58934\n",
       "2  Outfield                   29560"
      ]
     },
     "execution_count": 87,
     "metadata": {},
     "output_type": "execute_result"
    }
   ],
   "source": [
    "po_sum = field_pos_po.groupby(['category'], as_index = False)['po'].sum()\n",
    "\n",
    "po_sum.columns = ['Category', 'Sum of Putouts in 2016']\n",
    "\n",
    "po_sum"
   ]
  },
  {
   "cell_type": "markdown",
   "metadata": {},
   "source": [
    "## Answer: 2016 Putouts by Outfield: 29,560, Infield: 58,934, and Battery: 41,424.\n",
    "---"
   ]
  },
  {
   "cell_type": "markdown",
   "metadata": {},
   "source": [
    "---\n",
    "# Question 4: Find the average number of strikeouts per game by decade since 1920. Round the numbers you report to 2 decimal places. Do the same for home runs per game. Do you see any trends?"
   ]
  },
  {
   "cell_type": "code",
   "execution_count": 5,
   "metadata": {},
   "outputs": [],
   "source": [
    "teams_df = get_table('teams')"
   ]
  },
  {
   "cell_type": "code",
   "execution_count": 6,
   "metadata": {},
   "outputs": [],
   "source": [
    "# Narrowing dataframe to year, homeruns, strikeouts, and home games (the sum of which is total games played) \n",
    "# for years 1920 and after.\n",
    "\n",
    "teams_df = teams_df.loc[:, ['yearid', 'hr', 'so', 'ghome']]\n",
    "\n",
    "teams_df = teams_df[teams_df['yearid'] > 1919]"
   ]
  },
  {
   "cell_type": "code",
   "execution_count": 7,
   "metadata": {},
   "outputs": [],
   "source": [
    "# Adding decade column for grouping\n",
    "\n",
    "teams_df['decade'] = (teams_df.yearid//10)*10"
   ]
  },
  {
   "cell_type": "code",
   "execution_count": 8,
   "metadata": {},
   "outputs": [],
   "source": [
    "decade_group = teams_df.groupby('decade').agg({'ghome':'sum', 'hr':'sum', 'so':'sum'}).reset_index()"
   ]
  },
  {
   "cell_type": "code",
   "execution_count": 9,
   "metadata": {},
   "outputs": [],
   "source": [
    "decade_group['so_per_game'] = round(decade_group.so/decade_group.ghome, 2)\n",
    "\n",
    "decade_group['hr_per_game'] = round(decade_group.hr/decade_group.ghome, 2)"
   ]
  },
  {
   "cell_type": "code",
   "execution_count": 15,
   "metadata": {},
   "outputs": [
    {
     "data": {
      "image/png": "[encoded data removed]",
      "text/plain": [
       "<Figure size 432x288 with 1 Axes>"
      ]
     },
     "metadata": {
      "needs_background": "light"
     },
     "output_type": "display_data"
    }
   ],
   "source": [
    "plt.plot(decade_group.decade, decade_group.so_per_game)\n",
    "plt.xlabel('Year')\n",
    "plt.ylabel('Strikeouts')\n",
    "plt.ylim(0, 16)\n",
    "plt.title('Average strikeouts per game grouped by decade')\n",
    "plt.show()"
   ]
  },
  {
   "cell_type": "code",
   "execution_count": 16,
   "metadata": {
    "scrolled": true
   },
   "outputs": [
    {
     "data": {
      "image/png": "[encoded data removed]",
      "text/plain": [
       "<Figure size 432x288 with 1 Axes>"
      ]
     },
     "metadata": {
      "needs_background": "light"
     },
     "output_type": "display_data"
    }
   ],
   "source": [
    "plt.plot(decade_group.decade, decade_group.hr_per_game)\n",
    "plt.xlabel('Year')\n",
    "plt.ylabel('Homeruns')\n",
    "plt.ylim(0, 2.2)\n",
    "plt.title('Average homeruns per game grouped by decade')\n",
    "plt.show()"
   ]
  },
  {
   "cell_type": "markdown",
   "metadata": {},
   "source": [
    "## Answer: Both the average and homeruns per game have more than doubled between 1920 and 2010. Both these metrics had small dips in the 1970s decade.\n",
    "---"
   ]
  },
  {
   "cell_type": "markdown",
   "metadata": {},
   "source": [
    "---\n",
    "# Question 5: Find the player who had the most success stealing bases in 2016, where success is measured as the percentage of stolen base attempts which are successful. (A stolen base attempt results either in a stolen base or being caught stealing.) Consider only players who attempted at least 20 stolen bases."
   ]
  },
  {
   "cell_type": "code",
   "execution_count": 29,
   "metadata": {},
   "outputs": [],
   "source": [
    "people_df = get_table('people')\n",
    "\n",
    "batting_df = get_table('batting')"
   ]
  },
  {
   "cell_type": "code",
   "execution_count": 30,
   "metadata": {},
   "outputs": [],
   "source": [
    "# Limiting batting data to 2016\n",
    "\n",
    "batting_df = batting_df.loc[batting_df.yearid == 2016]\n",
    "\n",
    "batting_df = batting_df.loc[:,['playerid', 'sb', 'cs']]"
   ]
  },
  {
   "cell_type": "code",
   "execution_count": 32,
   "metadata": {},
   "outputs": [],
   "source": [
    "# Grouping playerids so that players who played for 2 different teams in a year get their stats summed\n",
    "\n",
    "players_stats = batting_df.groupby('playerid').agg({'sb':'sum', 'cs':'sum'}).reset_index()"
   ]
  },
  {
   "cell_type": "code",
   "execution_count": 40,
   "metadata": {},
   "outputs": [],
   "source": [
    "players_stats['attempts'] = players_stats.sb + players_stats.cs\n",
    "\n",
    "players_stats['success'] = round(players_stats.sb/players_stats.attempts*100, 2)"
   ]
  },
  {
   "cell_type": "code",
   "execution_count": 48,
   "metadata": {},
   "outputs": [],
   "source": [
    "results = players_stats[players_stats['attempts'] > 19].sort_values(by = 'success', ascending = False).reset_index(drop = True)"
   ]
  },
  {
   "cell_type": "code",
   "execution_count": 52,
   "metadata": {},
   "outputs": [],
   "source": [
    "people_names = people_df.loc[:,['playerid', 'namefirst', 'namelast', 'namegiven']]"
   ]
  },
  {
   "cell_type": "code",
   "execution_count": 54,
   "metadata": {},
   "outputs": [],
   "source": [
    "merge = pd.merge(results, people_names, on = 'playerid')"
   ]
  },
  {
   "cell_type": "code",
   "execution_count": 61,
   "metadata": {},
   "outputs": [
    {
     "data": {
      "text/html": [
       "<div>\n",
       "<style scoped>\n",
       "    .dataframe tbody tr th:only-of-type {\n",
       "        vertical-align: middle;\n",
       "    }\n",
       "\n",
       "    .dataframe tbody tr th {\n",
       "        vertical-align: top;\n",
       "    }\n",
       "\n",
       "    .dataframe thead th {\n",
       "        text-align: right;\n",
       "    }\n",
       "</style>\n",
       "<table border=\"1\" class=\"dataframe\">\n",
       "  <thead>\n",
       "    <tr style=\"text-align: right;\">\n",
       "      <th></th>\n",
       "      <th>namefirst</th>\n",
       "      <th>namelast</th>\n",
       "      <th>attempts</th>\n",
       "      <th>success</th>\n",
       "    </tr>\n",
       "  </thead>\n",
       "  <tbody>\n",
       "    <tr>\n",
       "      <th>0</th>\n",
       "      <td>Chris</td>\n",
       "      <td>Owings</td>\n",
       "      <td>23.0</td>\n",
       "      <td>91.3</td>\n",
       "    </tr>\n",
       "  </tbody>\n",
       "</table>\n",
       "</div>"
      ],
      "text/plain": [
       "  namefirst namelast  attempts  success\n",
       "0     Chris   Owings      23.0     91.3"
      ]
     },
     "execution_count": 61,
     "metadata": {},
     "output_type": "execute_result"
    }
   ],
   "source": [
    "# Most successful 2016 base stealer. Where success is defined by the question.\n",
    "\n",
    "merge.loc[[0],['namefirst','namelast','attempts', 'success']]"
   ]
  },
  {
   "cell_type": "markdown",
   "metadata": {
    "scrolled": true
   },
   "source": [
    "## Answer: Chris Owings had a 91.3% success rate with 23 attempts\n",
    "---"
   ]
  },
  {
   "cell_type": "markdown",
   "metadata": {},
   "source": [
    "---\n",
    "# Question 6: From 1970 – 2016, what is the largest number of wins for a team that did not win the world series? What is the smallest number of wins for a team that did win the world series? Doing this will probably result in an unusually small number of wins for a world series champion – determine why this is the case. Then redo your query, excluding the problem year. How often from 1970 – 2016 was it the case that a team with the most wins also won the world series? What percentage of the time?"
   ]
  },
  {
   "cell_type": "code",
   "execution_count": 62,
   "metadata": {},
   "outputs": [],
   "source": [
    "teams_df = get_table('teams')"
   ]
  },
  {
   "cell_type": "code",
   "execution_count": 66,
   "metadata": {},
   "outputs": [],
   "source": [
    "teams_df = teams_df.loc[teams_df.yearid > 1969]\n",
    "\n",
    "teams_df = teams_df.loc[:,['yearid', 'g', 'w', 'wswin', 'name']]"
   ]
  },
  {
   "cell_type": "code",
   "execution_count": 73,
   "metadata": {},
   "outputs": [
    {
     "data": {
      "text/html": [
       "<div>\n",
       "<style scoped>\n",
       "    .dataframe tbody tr th:only-of-type {\n",
       "        vertical-align: middle;\n",
       "    }\n",
       "\n",
       "    .dataframe tbody tr th {\n",
       "        vertical-align: top;\n",
       "    }\n",
       "\n",
       "    .dataframe thead th {\n",
       "        text-align: right;\n",
       "    }\n",
       "</style>\n",
       "<table border=\"1\" class=\"dataframe\">\n",
       "  <thead>\n",
       "    <tr style=\"text-align: right;\">\n",
       "      <th></th>\n",
       "      <th>yearid</th>\n",
       "      <th>g</th>\n",
       "      <th>w</th>\n",
       "      <th>wswin</th>\n",
       "      <th>name</th>\n",
       "    </tr>\n",
       "  </thead>\n",
       "  <tbody>\n",
       "    <tr>\n",
       "      <th>0</th>\n",
       "      <td>2001</td>\n",
       "      <td>162</td>\n",
       "      <td>116</td>\n",
       "      <td>N</td>\n",
       "      <td>Seattle Mariners</td>\n",
       "    </tr>\n",
       "  </tbody>\n",
       "</table>\n",
       "</div>"
      ],
      "text/plain": [
       "   yearid    g    w wswin              name\n",
       "0    2001  162  116     N  Seattle Mariners"
      ]
     },
     "execution_count": 73,
     "metadata": {},
     "output_type": "execute_result"
    }
   ],
   "source": [
    "losers = teams_df.loc[teams_df['wswin'] == 'N'].sort_values('w', ascending = False).reset_index(drop = True)\n",
    "\n",
    "losers.loc[[0]]"
   ]
  },
  {
   "cell_type": "code",
   "execution_count": 72,
   "metadata": {},
   "outputs": [
    {
     "data": {
      "text/html": [
       "<div>\n",
       "<style scoped>\n",
       "    .dataframe tbody tr th:only-of-type {\n",
       "        vertical-align: middle;\n",
       "    }\n",
       "\n",
       "    .dataframe tbody tr th {\n",
       "        vertical-align: top;\n",
       "    }\n",
       "\n",
       "    .dataframe thead th {\n",
       "        text-align: right;\n",
       "    }\n",
       "</style>\n",
       "<table border=\"1\" class=\"dataframe\">\n",
       "  <thead>\n",
       "    <tr style=\"text-align: right;\">\n",
       "      <th></th>\n",
       "      <th>yearid</th>\n",
       "      <th>g</th>\n",
       "      <th>w</th>\n",
       "      <th>wswin</th>\n",
       "      <th>name</th>\n",
       "    </tr>\n",
       "  </thead>\n",
       "  <tbody>\n",
       "    <tr>\n",
       "      <th>0</th>\n",
       "      <td>1981</td>\n",
       "      <td>110</td>\n",
       "      <td>63</td>\n",
       "      <td>Y</td>\n",
       "      <td>Los Angeles Dodgers</td>\n",
       "    </tr>\n",
       "  </tbody>\n",
       "</table>\n",
       "</div>"
      ],
      "text/plain": [
       "   yearid    g   w wswin                 name\n",
       "0    1981  110  63     Y  Los Angeles Dodgers"
      ]
     },
     "execution_count": 72,
     "metadata": {},
     "output_type": "execute_result"
    }
   ],
   "source": [
    "winners = teams_df.loc[teams_df['wswin'] == 'Y'].sort_values('w').reset_index(drop = True)\n",
    "\n",
    "winners.loc[[0]]"
   ]
  },
  {
   "cell_type": "code",
   "execution_count": 87,
   "metadata": {
    "scrolled": true
   },
   "outputs": [],
   "source": [
    "# Finding how many wins were the max wins in a year\n",
    "\n",
    "max_wins_per_year = teams_df.groupby('yearid')[['w']].max().reset_index()\n",
    "\n",
    "max_wins_per_year.columns = ['yearid', 'year_max_wins']"
   ]
  },
  {
   "cell_type": "code",
   "execution_count": 89,
   "metadata": {},
   "outputs": [],
   "source": [
    "merge = pd.merge(teams_df, max_wins_per_year, how = 'inner', on = 'yearid')"
   ]
  },
  {
   "cell_type": "code",
   "execution_count": 91,
   "metadata": {},
   "outputs": [],
   "source": [
    "max_win_teams = merge.loc[merge['w'] == merge['year_max_wins']].reset_index()"
   ]
  },
  {
   "cell_type": "code",
   "execution_count": 104,
   "metadata": {},
   "outputs": [],
   "source": [
    "max_win_teams_exclude = max_win_teams.loc[max_win_teams['yearid'] != 1981]"
   ]
  },
  {
   "cell_type": "code",
   "execution_count": 110,
   "metadata": {
    "scrolled": true
   },
   "outputs": [
    {
     "name": "stdout",
     "output_type": "stream",
     "text": [
      "Between 1970 and 2016 the team with the most wins that season won the World Series 23.53% of the time.\n",
      "This happened 12 times.\n"
     ]
    }
   ],
   "source": [
    "win_count = max_win_teams_exclude[max_win_teams_exclude['wswin'] == 'Y']['wswin'].count()\n",
    "\n",
    "win_percent = round(max_win_teams_exclude[max_win_teams_exclude['wswin'] == 'Y']['wswin'] \\\n",
    "                    .count()/max_win_teams_exclude['wswin'].count()*100, 2)\n",
    "\n",
    "print(f'Between 1970 and 2016 the team with the most wins that season won the World Series {win_percent}% of the time.')\n",
    "print(f'This happened {win_count} times.')"
   ]
  },
  {
   "cell_type": "markdown",
   "metadata": {},
   "source": [
    "## Answers: Between 1970 and 2016 the team with the most wins that lost the World Series was the 2001 Seattle Mariners with 116 wins in 162 games played. The smallest number of wins for a team that won the World Series between 1970 and 2016 was the 1981 Los Angeles Dodgers with 63 wins. There was a shorter than usual season due to a players strike. Without 1981 the team with the most season wins also won the World Series 12 times, 23.53% of the time\n",
    "---"
   ]
  },
  {
   "cell_type": "markdown",
   "metadata": {},
   "source": [
    "---\n",
    "# Question 7: Using the attendance figures from the homegames table, find the teams and parks which had the top 5 average attendance per game in 2016 (where average attendance is defined as total attendance divided by number of games). Only consider parks where there were at least 10 games played. Report the park name, team name, and average attendance. Repeat for the lowest 5 average attendance."
   ]
  },
  {
   "cell_type": "code",
   "execution_count": 126,
   "metadata": {},
   "outputs": [],
   "source": [
    "teams_df = get_table('teams')\n",
    "\n",
    "parks_df = get_table('parks')\n",
    "\n",
    "homegames_df = get_table('homegames')"
   ]
  },
  {
   "cell_type": "code",
   "execution_count": 127,
   "metadata": {
    "scrolled": true
   },
   "outputs": [],
   "source": [
    "# 2016 only, more than 9 games played\n",
    "\n",
    "homegames_df = homegames_df.loc[homegames_df['year'] == 2016]\n",
    "\n",
    "homegames_df = homegames_df.loc[homegames_df['games'] > 9]"
   ]
  },
  {
   "cell_type": "code",
   "execution_count": 129,
   "metadata": {},
   "outputs": [],
   "source": [
    "homegames_df['avg_attendance'] = round(homegames_df.attendance/homegames_df.games, 2)\n",
    "\n",
    "homegames_df = homegames_df.sort_values(['avg_attendance']).reset_index(drop = True)"
   ]
  },
  {
   "cell_type": "code",
   "execution_count": 161,
   "metadata": {},
   "outputs": [],
   "source": [
    "# Some teams kept the same teamid throughout the years but changed names. Using only 2016 team names eliminates that issue\n",
    "\n",
    "teams_df = teams_df.loc[teams_df['yearid'] == 2016]"
   ]
  },
  {
   "cell_type": "code",
   "execution_count": 164,
   "metadata": {},
   "outputs": [],
   "source": [
    "# Creating tables for joins to get team names and park names\n",
    "\n",
    "teams_lookup = teams_df.loc[:,['teamid', 'name']]\n",
    "\n",
    "parks_lookup = parks_df.loc[:,['park', 'park_name']]"
   ]
  },
  {
   "cell_type": "code",
   "execution_count": 165,
   "metadata": {},
   "outputs": [],
   "source": [
    "# Bringing in team name\n",
    "\n",
    "merge1 = pd.merge(homegames_df, teams_lookup.drop_duplicates(subset = ['teamid']), \n",
    "                                how = 'left', \n",
    "                                left_on = 'team', \n",
    "                                right_on = 'teamid'\n",
    "                                )"
   ]
  },
  {
   "cell_type": "code",
   "execution_count": 166,
   "metadata": {},
   "outputs": [],
   "source": [
    "results = pd.merge(merge1, parks_lookup.drop_duplicates(subset = ['park']), \n",
    "                                how = 'left', \n",
    "                                on = 'park'\n",
    "                                )\n",
    "results = results.loc[:,['park_name', 'name', 'avg_attendance']]\n",
    "\n",
    "results.columns = ['park_name', 'team_name', 'avg_2016_attendance_per_game']"
   ]
  },
  {
   "cell_type": "code",
   "execution_count": 167,
   "metadata": {
    "scrolled": true
   },
   "outputs": [
    {
     "data": {
      "text/html": [
       "<div>\n",
       "<style scoped>\n",
       "    .dataframe tbody tr th:only-of-type {\n",
       "        vertical-align: middle;\n",
       "    }\n",
       "\n",
       "    .dataframe tbody tr th {\n",
       "        vertical-align: top;\n",
       "    }\n",
       "\n",
       "    .dataframe thead th {\n",
       "        text-align: right;\n",
       "    }\n",
       "</style>\n",
       "<table border=\"1\" class=\"dataframe\">\n",
       "  <thead>\n",
       "    <tr style=\"text-align: right;\">\n",
       "      <th></th>\n",
       "      <th>park_name</th>\n",
       "      <th>team_name</th>\n",
       "      <th>avg_2016_attendance_per_game</th>\n",
       "    </tr>\n",
       "  </thead>\n",
       "  <tbody>\n",
       "    <tr>\n",
       "      <th>25</th>\n",
       "      <td>Wrigley Field</td>\n",
       "      <td>Chicago Cubs</td>\n",
       "      <td>39906.42</td>\n",
       "    </tr>\n",
       "    <tr>\n",
       "      <th>26</th>\n",
       "      <td>AT&amp;T Park</td>\n",
       "      <td>San Francisco Giants</td>\n",
       "      <td>41546.37</td>\n",
       "    </tr>\n",
       "    <tr>\n",
       "      <th>27</th>\n",
       "      <td>Rogers Centre</td>\n",
       "      <td>Toronto Blue Jays</td>\n",
       "      <td>41877.77</td>\n",
       "    </tr>\n",
       "    <tr>\n",
       "      <th>28</th>\n",
       "      <td>Busch Stadium III</td>\n",
       "      <td>St. Louis Cardinals</td>\n",
       "      <td>42524.57</td>\n",
       "    </tr>\n",
       "    <tr>\n",
       "      <th>29</th>\n",
       "      <td>Dodger Stadium</td>\n",
       "      <td>Los Angeles Dodgers</td>\n",
       "      <td>45719.90</td>\n",
       "    </tr>\n",
       "  </tbody>\n",
       "</table>\n",
       "</div>"
      ],
      "text/plain": [
       "            park_name             team_name  avg_2016_attendance_per_game\n",
       "25      Wrigley Field          Chicago Cubs                      39906.42\n",
       "26          AT&T Park  San Francisco Giants                      41546.37\n",
       "27      Rogers Centre     Toronto Blue Jays                      41877.77\n",
       "28  Busch Stadium III   St. Louis Cardinals                      42524.57\n",
       "29     Dodger Stadium   Los Angeles Dodgers                      45719.90"
      ]
     },
     "execution_count": 167,
     "metadata": {},
     "output_type": "execute_result"
    }
   ],
   "source": [
    "top_5 = results.iloc[-5:]\n",
    "\n",
    "top_5"
   ]
  },
  {
   "cell_type": "code",
   "execution_count": 168,
   "metadata": {
    "scrolled": true
   },
   "outputs": [
    {
     "data": {
      "text/html": [
       "<div>\n",
       "<style scoped>\n",
       "    .dataframe tbody tr th:only-of-type {\n",
       "        vertical-align: middle;\n",
       "    }\n",
       "\n",
       "    .dataframe tbody tr th {\n",
       "        vertical-align: top;\n",
       "    }\n",
       "\n",
       "    .dataframe thead th {\n",
       "        text-align: right;\n",
       "    }\n",
       "</style>\n",
       "<table border=\"1\" class=\"dataframe\">\n",
       "  <thead>\n",
       "    <tr style=\"text-align: right;\">\n",
       "      <th></th>\n",
       "      <th>park_name</th>\n",
       "      <th>team_name</th>\n",
       "      <th>avg_2016_attendance_per_game</th>\n",
       "    </tr>\n",
       "  </thead>\n",
       "  <tbody>\n",
       "    <tr>\n",
       "      <th>0</th>\n",
       "      <td>Tropicana Field</td>\n",
       "      <td>Tampa Bay Rays</td>\n",
       "      <td>15878.56</td>\n",
       "    </tr>\n",
       "    <tr>\n",
       "      <th>1</th>\n",
       "      <td>Oakland-Alameda County Coliseum</td>\n",
       "      <td>Oakland Athletics</td>\n",
       "      <td>18784.02</td>\n",
       "    </tr>\n",
       "    <tr>\n",
       "      <th>2</th>\n",
       "      <td>Progressive Field</td>\n",
       "      <td>Cleveland Indians</td>\n",
       "      <td>19650.21</td>\n",
       "    </tr>\n",
       "    <tr>\n",
       "      <th>3</th>\n",
       "      <td>Marlins Park</td>\n",
       "      <td>Miami Marlins</td>\n",
       "      <td>21405.21</td>\n",
       "    </tr>\n",
       "    <tr>\n",
       "      <th>4</th>\n",
       "      <td>U.S. Cellular Field</td>\n",
       "      <td>Chicago White Sox</td>\n",
       "      <td>21559.17</td>\n",
       "    </tr>\n",
       "  </tbody>\n",
       "</table>\n",
       "</div>"
      ],
      "text/plain": [
       "                         park_name          team_name  \\\n",
       "0                  Tropicana Field     Tampa Bay Rays   \n",
       "1  Oakland-Alameda County Coliseum  Oakland Athletics   \n",
       "2                Progressive Field  Cleveland Indians   \n",
       "3                     Marlins Park      Miami Marlins   \n",
       "4              U.S. Cellular Field  Chicago White Sox   \n",
       "\n",
       "   avg_2016_attendance_per_game  \n",
       "0                      15878.56  \n",
       "1                      18784.02  \n",
       "2                      19650.21  \n",
       "3                      21405.21  \n",
       "4                      21559.17  "
      ]
     },
     "execution_count": 168,
     "metadata": {},
     "output_type": "execute_result"
    }
   ],
   "source": [
    "bottom_5 = results.iloc[:5]\n",
    "\n",
    "bottom_5"
   ]
  },
  {
   "cell_type": "markdown",
   "metadata": {},
   "source": [
    "## Answer: \n",
    "\n",
    "## Top 5 Parks:\n",
    "\n",
    "|park_name |team_name |avg_2016_attendance_per_game |\n",
    "|----------|----------|-----------------------------|\n",
    "|Wrigley Field|\tChicago Cubs|\t39906.42\n",
    "|AT&T Park\t|San Francisco Giants|\t41546.37\n",
    "|Rogers Centre|\tToronto Blue Jays|\t41877.77\n",
    "|Busch Stadium III|\tSt. Louis Cardinals\t|42524.57\n",
    "|Dodger Stadium|\tLos Angeles Dodgers\t|45719.90\n",
    "\n",
    "## Bottom 5 Parks:\n",
    "\n",
    "|park_name|team_name|avg_2016_attendance_per_game|\n",
    "|---------|---------|----------------------------|\n",
    "|Tropicana Field|\tTampa Bay Rays|\t15878.56\n",
    "|Oakland-Alameda County Coliseum|\tOakland Athletics|\t18784.02\n",
    "|Progressive Field|\tCleveland Indians|\t19650.21\n",
    "|Marlins Park|\tMiami Marlins|\t21405.21\n",
    "|U.S. Cellular Field|\tChicago White Sox|\t21559.17\n",
    "\n",
    "---"
   ]
  },
  {
   "cell_type": "markdown",
   "metadata": {},
   "source": [
    "---\n",
    "# Question 8: Which managers have won the TSN Manager of the Year award in both the National League (NL) and the American League (AL)? Give their full name and the teams that they were managing when they won the award."
   ]
  },
  {
   "cell_type": "code",
   "execution_count": 215,
   "metadata": {},
   "outputs": [],
   "source": [
    "awardsmanagers_df = get_table('awardsmanagers')\n",
    "\n",
    "managers_df = get_table('managers')\n",
    "\n",
    "people_df = get_table('people')\n",
    "\n",
    "teams_df = get_table('teams')"
   ]
  },
  {
   "cell_type": "code",
   "execution_count": 191,
   "metadata": {},
   "outputs": [],
   "source": [
    "# Narrow to TSN winners\n",
    "\n",
    "tsn_awards = awardsmanagers_df[awardsmanagers_df['awardid'] == 'TSN Manager of the Year']"
   ]
  },
  {
   "cell_type": "code",
   "execution_count": 192,
   "metadata": {},
   "outputs": [],
   "source": [
    "# Narrow to leagues of interest\n",
    "\n",
    "tsn_awards_al = tsn_awards[tsn_awards['lgid'] == 'AL']\n",
    "\n",
    "tsn_awards_nl = tsn_awards[tsn_awards['lgid'] == 'NL']"
   ]
  },
  {
   "cell_type": "code",
   "execution_count": 239,
   "metadata": {},
   "outputs": [],
   "source": [
    "# Finding playerids that are in both lists of winners\n",
    "\n",
    "both_leagues = tsn_awards_al[tsn_awards_al['playerid'].isin(tsn_awards_nl['playerid'].unique())]['playerid'].to_list()"
   ]
  },
  {
   "cell_type": "code",
   "execution_count": 249,
   "metadata": {},
   "outputs": [],
   "source": [
    "# Table of just managers who won the TSN Manager of the Year in the NL and Al leagues.\n",
    "\n",
    "won_both = tsn_awards[tsn_awards['playerid'].isin(both_leagues)].drop(['tie', 'notes', 'lgid'], axis = 1).reset_index()"
   ]
  },
  {
   "cell_type": "code",
   "execution_count": 221,
   "metadata": {},
   "outputs": [],
   "source": [
    "team_crosswalk = teams_df.loc[:,['yearid', 'teamid', 'name']]\n",
    "\n",
    "people_crosswalk = people_df.loc[:,['playerid', 'namelast', 'namefirst']]"
   ]
  },
  {
   "cell_type": "code",
   "execution_count": 253,
   "metadata": {},
   "outputs": [],
   "source": [
    "# Narrowing managers table to columns of interest and adding team id to the table\n",
    "\n",
    "managers_df = managers_df.loc[:, ['playerid', 'yearid', 'teamid']]\n",
    "\n",
    "won_both = pd.merge(won_both, managers_df, how = 'inner', left_on = ['playerid', 'yearid'], right_on = ['playerid', 'yearid'])"
   ]
  },
  {
   "cell_type": "code",
   "execution_count": 259,
   "metadata": {},
   "outputs": [],
   "source": [
    "# Merging in names from people_crosswalk and team names from team_crosswalk to the table\n",
    "\n",
    "won_both = pd.merge(won_both, people_crosswalk, how = 'inner', on = 'playerid')\n",
    "\n",
    "won_both = pd.merge(won_both, team_crosswalk, how = 'inner', left_on = ['teamid', 'yearid'], right_on = ['teamid', 'yearid'])"
   ]
  },
  {
   "cell_type": "code",
   "execution_count": 263,
   "metadata": {},
   "outputs": [
    {
     "data": {
      "text/html": [
       "<div>\n",
       "<style scoped>\n",
       "    .dataframe tbody tr th:only-of-type {\n",
       "        vertical-align: middle;\n",
       "    }\n",
       "\n",
       "    .dataframe tbody tr th {\n",
       "        vertical-align: top;\n",
       "    }\n",
       "\n",
       "    .dataframe thead th {\n",
       "        text-align: right;\n",
       "    }\n",
       "</style>\n",
       "<table border=\"1\" class=\"dataframe\">\n",
       "  <thead>\n",
       "    <tr style=\"text-align: right;\">\n",
       "      <th></th>\n",
       "      <th>First Name</th>\n",
       "      <th>Last Name</th>\n",
       "      <th>Award Year</th>\n",
       "      <th>Award</th>\n",
       "      <th>Team Name</th>\n",
       "    </tr>\n",
       "  </thead>\n",
       "  <tbody>\n",
       "    <tr>\n",
       "      <th>0</th>\n",
       "      <td>Jim</td>\n",
       "      <td>Leyland</td>\n",
       "      <td>1988</td>\n",
       "      <td>TSN Manager of the Year</td>\n",
       "      <td>Pittsburgh Pirates</td>\n",
       "    </tr>\n",
       "    <tr>\n",
       "      <th>1</th>\n",
       "      <td>Jim</td>\n",
       "      <td>Leyland</td>\n",
       "      <td>1990</td>\n",
       "      <td>TSN Manager of the Year</td>\n",
       "      <td>Pittsburgh Pirates</td>\n",
       "    </tr>\n",
       "    <tr>\n",
       "      <th>2</th>\n",
       "      <td>Jim</td>\n",
       "      <td>Leyland</td>\n",
       "      <td>1992</td>\n",
       "      <td>TSN Manager of the Year</td>\n",
       "      <td>Pittsburgh Pirates</td>\n",
       "    </tr>\n",
       "    <tr>\n",
       "      <th>3</th>\n",
       "      <td>Jim</td>\n",
       "      <td>Leyland</td>\n",
       "      <td>2006</td>\n",
       "      <td>TSN Manager of the Year</td>\n",
       "      <td>Detroit Tigers</td>\n",
       "    </tr>\n",
       "    <tr>\n",
       "      <th>4</th>\n",
       "      <td>Davey</td>\n",
       "      <td>Johnson</td>\n",
       "      <td>1997</td>\n",
       "      <td>TSN Manager of the Year</td>\n",
       "      <td>Baltimore Orioles</td>\n",
       "    </tr>\n",
       "    <tr>\n",
       "      <th>5</th>\n",
       "      <td>Davey</td>\n",
       "      <td>Johnson</td>\n",
       "      <td>2012</td>\n",
       "      <td>TSN Manager of the Year</td>\n",
       "      <td>Washington Nationals</td>\n",
       "    </tr>\n",
       "  </tbody>\n",
       "</table>\n",
       "</div>"
      ],
      "text/plain": [
       "  First Name Last Name  Award Year                    Award  \\\n",
       "0        Jim   Leyland        1988  TSN Manager of the Year   \n",
       "1        Jim   Leyland        1990  TSN Manager of the Year   \n",
       "2        Jim   Leyland        1992  TSN Manager of the Year   \n",
       "3        Jim   Leyland        2006  TSN Manager of the Year   \n",
       "4      Davey   Johnson        1997  TSN Manager of the Year   \n",
       "5      Davey   Johnson        2012  TSN Manager of the Year   \n",
       "\n",
       "              Team Name  \n",
       "0    Pittsburgh Pirates  \n",
       "1    Pittsburgh Pirates  \n",
       "2    Pittsburgh Pirates  \n",
       "3        Detroit Tigers  \n",
       "4     Baltimore Orioles  \n",
       "5  Washington Nationals  "
      ]
     },
     "execution_count": 263,
     "metadata": {},
     "output_type": "execute_result"
    }
   ],
   "source": [
    "won_both = won_both.loc[:,['namefirst', 'namelast', 'yearid', 'awardid', 'name']]\n",
    "\n",
    "won_both.columns = ['First Name', 'Last Name', 'Award Year', 'Award', 'Team Name']\n",
    "\n",
    "won_both"
   ]
  },
  {
   "cell_type": "markdown",
   "metadata": {},
   "source": [
    "## Answer:\n",
    "\n",
    "|First Name|Last Name|Award Year|Award|Team Name|\n",
    "|--|--|--|--|--|\n",
    "|Jim|\tLeyland\t|1988|\tTSN Manager of the Year|Pittsburgh Pirates|\n",
    "|Jim|\tLeyland\t|1990|\tTSN Manager of the Year|\tPittsburgh Pirates|\n",
    "|Jim|\tLeyland\t|1992|\tTSN Manager of the Year\t|Pittsburgh Pirates|\n",
    "|Jim|\tLeyland\t|2006|\tTSN Manager of the Year\t|Detroit Tigers|\n",
    "|Davey|\tJohnson\t|1997|\tTSN Manager of the Year\t|Baltimore Orioles|\n",
    "|Davey|\tJohnson|\t2012|\tTSN Manager of the Year|\tWashington Nationals|\n",
    "\n",
    "---"
   ]
  },
  {
   "cell_type": "markdown",
   "metadata": {},
   "source": [
    "---\n",
    "# Bonus Question 1: Analyze all the colleges in the state of Tennessee. Which college has had the most success in the major leagues. Use whatever metric for success you like - number of players, number of games, salaries, world series wins, etc."
   ]
  },
  {
   "cell_type": "markdown",
   "metadata": {},
   "source": [
    "### I watched Moneyball and I seem to remember than on-base percentage was an important statistic. I plan to measure 'sucess' by career on-base percentage for all the players that went to that school."
   ]
  },
  {
   "cell_type": "code",
   "execution_count": 264,
   "metadata": {},
   "outputs": [],
   "source": [
    "batting_df = get_table('batting')\n",
    "\n",
    "people_df = get_table('people')\n",
    "\n",
    "collegeplaying_df = get_table('collegeplaying')\n",
    "\n",
    "schools_df = get_table('schools')"
   ]
  },
  {
   "cell_type": "code",
   "execution_count": 275,
   "metadata": {},
   "outputs": [],
   "source": [
    "people_crosswalk = people_df.loc[:,['playerid', 'namefirst', 'namelast']]\n",
    "\n",
    "schools_crosswalk = schools_df.loc[:,['schoolid', 'schoolname']]"
   ]
  },
  {
   "cell_type": "code",
   "execution_count": 267,
   "metadata": {},
   "outputs": [],
   "source": [
    "tn_school_ids = schools_df[schools_df['schoolstate'] == 'TN']['schoolid'].to_list()"
   ]
  },
  {
   "cell_type": "code",
   "execution_count": 283,
   "metadata": {},
   "outputs": [],
   "source": [
    "tn_collegeplaying_df = collegeplaying_df[collegeplaying_df['schoolid'].isin(tn_school_ids)]"
   ]
  },
  {
   "cell_type": "code",
   "execution_count": 284,
   "metadata": {},
   "outputs": [],
   "source": [
    "tn_collegeplaying_df = pd.merge(tn_collegeplaying_df, schools_crosswalk, how = 'inner', on = 'schoolid')\n",
    "\n",
    "tn_collegeplaying_df = tn_collegeplaying_df.drop(['schoolid', 'yearid'], axis = 1)"
   ]
  },
  {
   "cell_type": "code",
   "execution_count": 294,
   "metadata": {},
   "outputs": [],
   "source": [
    "tn_batting = batting_df[batting_df['playerid'].isin(tn_collegeplaying_df['playerid'].unique())]\n",
    "\n",
    "tn_batting = tn_batting.loc[:,['playerid', 'h', 'ab']]"
   ]
  },
  {
   "cell_type": "code",
   "execution_count": 297,
   "metadata": {},
   "outputs": [],
   "source": [
    "college_hits = pd.merge(tn_collegeplaying_df, tn_batting, how = 'inner', on = 'playerid')\n",
    "\n",
    "college_hits = college_hits.drop(['playerid'], axis = 1)"
   ]
  },
  {
   "cell_type": "code",
   "execution_count": 337,
   "metadata": {},
   "outputs": [
    {
     "data": {
      "text/html": [
       "<div>\n",
       "<style scoped>\n",
       "    .dataframe tbody tr th:only-of-type {\n",
       "        vertical-align: middle;\n",
       "    }\n",
       "\n",
       "    .dataframe tbody tr th {\n",
       "        vertical-align: top;\n",
       "    }\n",
       "\n",
       "    .dataframe thead th {\n",
       "        text-align: right;\n",
       "    }\n",
       "</style>\n",
       "<table border=\"1\" class=\"dataframe\">\n",
       "  <thead>\n",
       "    <tr style=\"text-align: right;\">\n",
       "      <th></th>\n",
       "      <th>schoolname</th>\n",
       "      <th>h</th>\n",
       "      <th>ab</th>\n",
       "      <th>onbase</th>\n",
       "    </tr>\n",
       "  </thead>\n",
       "  <tbody>\n",
       "    <tr>\n",
       "      <th>0</th>\n",
       "      <td>Lipscomb University</td>\n",
       "      <td>0</td>\n",
       "      <td>123</td>\n",
       "      <td>0.000</td>\n",
       "    </tr>\n",
       "    <tr>\n",
       "      <th>1</th>\n",
       "      <td>Tennessee Technological University</td>\n",
       "      <td>0</td>\n",
       "      <td>6</td>\n",
       "      <td>0.000</td>\n",
       "    </tr>\n",
       "    <tr>\n",
       "      <th>2</th>\n",
       "      <td>Lambuth University</td>\n",
       "      <td>0</td>\n",
       "      <td>18</td>\n",
       "      <td>0.000</td>\n",
       "    </tr>\n",
       "    <tr>\n",
       "      <th>3</th>\n",
       "      <td>Lincoln Memorial University</td>\n",
       "      <td>0</td>\n",
       "      <td>26</td>\n",
       "      <td>0.000</td>\n",
       "    </tr>\n",
       "    <tr>\n",
       "      <th>4</th>\n",
       "      <td>Motlow State Community College</td>\n",
       "      <td>14</td>\n",
       "      <td>139</td>\n",
       "      <td>0.101</td>\n",
       "    </tr>\n",
       "    <tr>\n",
       "      <th>5</th>\n",
       "      <td>Belmont University</td>\n",
       "      <td>6</td>\n",
       "      <td>48</td>\n",
       "      <td>0.125</td>\n",
       "    </tr>\n",
       "    <tr>\n",
       "      <th>6</th>\n",
       "      <td>Jackson State Community College</td>\n",
       "      <td>45</td>\n",
       "      <td>353</td>\n",
       "      <td>0.127</td>\n",
       "    </tr>\n",
       "    <tr>\n",
       "      <th>7</th>\n",
       "      <td>Tennessee Wesleyan College</td>\n",
       "      <td>133</td>\n",
       "      <td>775</td>\n",
       "      <td>0.172</td>\n",
       "    </tr>\n",
       "    <tr>\n",
       "      <th>8</th>\n",
       "      <td>Southwest Tennessee Community College</td>\n",
       "      <td>215</td>\n",
       "      <td>1226</td>\n",
       "      <td>0.175</td>\n",
       "    </tr>\n",
       "    <tr>\n",
       "      <th>9</th>\n",
       "      <td>King College</td>\n",
       "      <td>192</td>\n",
       "      <td>1060</td>\n",
       "      <td>0.181</td>\n",
       "    </tr>\n",
       "    <tr>\n",
       "      <th>10</th>\n",
       "      <td>Rhodes College</td>\n",
       "      <td>459</td>\n",
       "      <td>2445</td>\n",
       "      <td>0.188</td>\n",
       "    </tr>\n",
       "    <tr>\n",
       "      <th>11</th>\n",
       "      <td>Carson-Newman College</td>\n",
       "      <td>631</td>\n",
       "      <td>3173</td>\n",
       "      <td>0.199</td>\n",
       "    </tr>\n",
       "    <tr>\n",
       "      <th>12</th>\n",
       "      <td>East Tennessee State University</td>\n",
       "      <td>813</td>\n",
       "      <td>3903</td>\n",
       "      <td>0.208</td>\n",
       "    </tr>\n",
       "    <tr>\n",
       "      <th>13</th>\n",
       "      <td>Middle Tennessee State University</td>\n",
       "      <td>1569</td>\n",
       "      <td>7026</td>\n",
       "      <td>0.223</td>\n",
       "    </tr>\n",
       "    <tr>\n",
       "      <th>14</th>\n",
       "      <td>LeMoyne-Owen College</td>\n",
       "      <td>23</td>\n",
       "      <td>99</td>\n",
       "      <td>0.232</td>\n",
       "    </tr>\n",
       "    <tr>\n",
       "      <th>15</th>\n",
       "      <td>Austin Peay State University</td>\n",
       "      <td>2632</td>\n",
       "      <td>11127</td>\n",
       "      <td>0.237</td>\n",
       "    </tr>\n",
       "    <tr>\n",
       "      <th>16</th>\n",
       "      <td>Columbia State Community College</td>\n",
       "      <td>739</td>\n",
       "      <td>3090</td>\n",
       "      <td>0.239</td>\n",
       "    </tr>\n",
       "    <tr>\n",
       "      <th>17</th>\n",
       "      <td>University of Memphis</td>\n",
       "      <td>4600</td>\n",
       "      <td>19217</td>\n",
       "      <td>0.239</td>\n",
       "    </tr>\n",
       "    <tr>\n",
       "      <th>18</th>\n",
       "      <td>Vanderbilt University</td>\n",
       "      <td>8632</td>\n",
       "      <td>35306</td>\n",
       "      <td>0.244</td>\n",
       "    </tr>\n",
       "    <tr>\n",
       "      <th>19</th>\n",
       "      <td>Tennessee State University</td>\n",
       "      <td>4630</td>\n",
       "      <td>18504</td>\n",
       "      <td>0.250</td>\n",
       "    </tr>\n",
       "    <tr>\n",
       "      <th>20</th>\n",
       "      <td>Cleveland State Community College</td>\n",
       "      <td>477</td>\n",
       "      <td>1867</td>\n",
       "      <td>0.255</td>\n",
       "    </tr>\n",
       "    <tr>\n",
       "      <th>21</th>\n",
       "      <td>Lane College</td>\n",
       "      <td>307</td>\n",
       "      <td>1199</td>\n",
       "      <td>0.256</td>\n",
       "    </tr>\n",
       "    <tr>\n",
       "      <th>22</th>\n",
       "      <td>Freed-Hardeman University</td>\n",
       "      <td>354</td>\n",
       "      <td>1352</td>\n",
       "      <td>0.262</td>\n",
       "    </tr>\n",
       "    <tr>\n",
       "      <th>23</th>\n",
       "      <td>University of the South</td>\n",
       "      <td>1527</td>\n",
       "      <td>5772</td>\n",
       "      <td>0.265</td>\n",
       "    </tr>\n",
       "    <tr>\n",
       "      <th>24</th>\n",
       "      <td>University of Tennessee</td>\n",
       "      <td>24437</td>\n",
       "      <td>91927</td>\n",
       "      <td>0.266</td>\n",
       "    </tr>\n",
       "    <tr>\n",
       "      <th>25</th>\n",
       "      <td>Cumberland University</td>\n",
       "      <td>94</td>\n",
       "      <td>350</td>\n",
       "      <td>0.269</td>\n",
       "    </tr>\n",
       "    <tr>\n",
       "      <th>26</th>\n",
       "      <td>Union University</td>\n",
       "      <td>1112</td>\n",
       "      <td>4012</td>\n",
       "      <td>0.277</td>\n",
       "    </tr>\n",
       "    <tr>\n",
       "      <th>27</th>\n",
       "      <td>Maryville College</td>\n",
       "      <td>5835</td>\n",
       "      <td>19237</td>\n",
       "      <td>0.303</td>\n",
       "    </tr>\n",
       "    <tr>\n",
       "      <th>28</th>\n",
       "      <td>University of Tennessee Health Science Center</td>\n",
       "      <td>598</td>\n",
       "      <td>1924</td>\n",
       "      <td>0.311</td>\n",
       "    </tr>\n",
       "    <tr>\n",
       "      <th>29</th>\n",
       "      <td>Milligan College</td>\n",
       "      <td>1622</td>\n",
       "      <td>4901</td>\n",
       "      <td>0.331</td>\n",
       "    </tr>\n",
       "    <tr>\n",
       "      <th>30</th>\n",
       "      <td>Tusculum College</td>\n",
       "      <td>811</td>\n",
       "      <td>2450</td>\n",
       "      <td>0.331</td>\n",
       "    </tr>\n",
       "    <tr>\n",
       "      <th>31</th>\n",
       "      <td>Hiwassee College</td>\n",
       "      <td>4</td>\n",
       "      <td>8</td>\n",
       "      <td>0.500</td>\n",
       "    </tr>\n",
       "  </tbody>\n",
       "</table>\n",
       "</div>"
      ],
      "text/plain": [
       "                                       schoolname      h     ab  onbase\n",
       "0                             Lipscomb University      0    123   0.000\n",
       "1              Tennessee Technological University      0      6   0.000\n",
       "2                              Lambuth University      0     18   0.000\n",
       "3                     Lincoln Memorial University      0     26   0.000\n",
       "4                  Motlow State Community College     14    139   0.101\n",
       "5                              Belmont University      6     48   0.125\n",
       "6                 Jackson State Community College     45    353   0.127\n",
       "7                      Tennessee Wesleyan College    133    775   0.172\n",
       "8           Southwest Tennessee Community College    215   1226   0.175\n",
       "9                                    King College    192   1060   0.181\n",
       "10                                 Rhodes College    459   2445   0.188\n",
       "11                          Carson-Newman College    631   3173   0.199\n",
       "12                East Tennessee State University    813   3903   0.208\n",
       "13              Middle Tennessee State University   1569   7026   0.223\n",
       "14                           LeMoyne-Owen College     23     99   0.232\n",
       "15                   Austin Peay State University   2632  11127   0.237\n",
       "16               Columbia State Community College    739   3090   0.239\n",
       "17                          University of Memphis   4600  19217   0.239\n",
       "18                          Vanderbilt University   8632  35306   0.244\n",
       "19                     Tennessee State University   4630  18504   0.250\n",
       "20              Cleveland State Community College    477   1867   0.255\n",
       "21                                   Lane College    307   1199   0.256\n",
       "22                      Freed-Hardeman University    354   1352   0.262\n",
       "23                        University of the South   1527   5772   0.265\n",
       "24                        University of Tennessee  24437  91927   0.266\n",
       "25                          Cumberland University     94    350   0.269\n",
       "26                               Union University   1112   4012   0.277\n",
       "27                              Maryville College   5835  19237   0.303\n",
       "28  University of Tennessee Health Science Center    598   1924   0.311\n",
       "29                               Milligan College   1622   4901   0.331\n",
       "30                               Tusculum College    811   2450   0.331\n",
       "31                               Hiwassee College      4      8   0.500"
      ]
     },
     "execution_count": 337,
     "metadata": {},
     "output_type": "execute_result"
    }
   ],
   "source": [
    "college_grouped = college_hits.groupby('schoolname').agg({'h':'sum', 'ab':'sum'}).reset_index()\n",
    "\n",
    "college_grouped['onbase'] = round(college_grouped['h']/college_grouped['ab'], 3)\n",
    "\n",
    "college_grouped = college_grouped.sort_values('onbase').reset_index(drop = True)\n",
    "\n",
    "college_grouped = college_grouped.dropna(subset = ['onbase'])\n",
    "\n",
    "college_grouped"
   ]
  },
  {
   "cell_type": "code",
   "execution_count": 336,
   "metadata": {},
   "outputs": [
    {
     "data": {
      "image/png": "[encoded data removed]",
      "text/plain": [
       "<Figure size 576x720 with 1 Axes>"
      ]
     },
     "metadata": {
      "needs_background": "light"
     },
     "output_type": "display_data"
    }
   ],
   "source": [
    "fig, ax = plt.subplots(figsize = (8, 10))\n",
    "\n",
    "ax.barh(college_grouped.schoolname, college_grouped.onbase)\n",
    "ax.set_xlabel('On-base Percentage')\n",
    "ax.set_ylabel('TN College')\n",
    "ax.set_title('Major League Success of TN College Players')\n",
    "plt.tight_layout()\n",
    "plt.show()"
   ]
  },
  {
   "cell_type": "markdown",
   "metadata": {},
   "source": [
    "## Answer: Hiwassee College has the best on-base percentage, 0.500 but only has 8 major league at bats. Tusculum College and Milligan College are better candidates for most successful TN college with on-base percentages of 0.331 in 2450 and 4901 at bats respectively.\n",
    "---"
   ]
  },
  {
   "cell_type": "code",
   "execution_count": null,
   "metadata": {},
   "outputs": [],
   "source": []
  },
  {
   "cell_type": "code",
   "execution_count": null,
   "metadata": {},
   "outputs": [],
   "source": []
  },
  {
   "cell_type": "code",
   "execution_count": 137,
   "metadata": {},
   "outputs": [],
   "source": [
    "engine.dispose()"
   ]
  },
  {
   "cell_type": "code",
   "execution_count": null,
   "metadata": {},
   "outputs": [],
   "source": []
  }
 ],
 "metadata": {
  "kernelspec": {
   "display_name": "Python 3",
   "language": "python",
   "name": "python3"
  },
  "language_info": {
   "codemirror_mode": {
    "name": "ipython",
    "version": 3
   },
   "file_extension": ".py",
   "mimetype": "text/x-python",
   "name": "python",
   "nbconvert_exporter": "python",
   "pygments_lexer": "ipython3",
   "version": "3.8.2"
  }
 },
 "nbformat": 4,
 "nbformat_minor": 4
}
