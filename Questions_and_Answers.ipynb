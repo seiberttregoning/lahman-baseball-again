{
 "cells": [
  {
   "cell_type": "markdown",
   "metadata": {},
   "source": [
    "## Imports"
   ]
  },
  {
   "cell_type": "code",
   "execution_count": 2,
   "metadata": {},
   "outputs": [
    {
     "data": {
      "text/plain": [
       "True"
      ]
     },
     "execution_count": 2,
     "metadata": {},
     "output_type": "execute_result"
    }
   ],
   "source": [
    "import os\n",
    "\n",
    "import pandas as pd\n",
    "\n",
    "from sqlalchemy import create_engine\n",
    "\n",
    "from dotenv import load_dotenv\n",
    "load_dotenv()"
   ]
  },
  {
   "cell_type": "markdown",
   "metadata": {},
   "source": [
    "## Connection"
   ]
  },
  {
   "cell_type": "code",
   "execution_count": 4,
   "metadata": {},
   "outputs": [],
   "source": [
    "username = os.getenv('POSTGRES_USERNAME')\n",
    "password = os.getenv('POSTGRES_PASSWORD')\n",
    "\n",
    "\n",
    "postgres_connection_string = \"postgres://{username}:{password}@{host}:{port}/{database}?gssencmode=disable\".format(\n",
    "    username=username,\n",
    "    password=password,\n",
    "    host=\"localhost\",\n",
    "    port=\"5432\",\n",
    "    database=\"lahman_baseball\"\n",
    ")\n",
    "\n",
    "engine = create_engine(postgres_connection_string)"
   ]
  },
  {
   "cell_type": "markdown",
   "metadata": {},
   "source": [
    "## Table Retriever"
   ]
  },
  {
   "cell_type": "code",
   "execution_count": 25,
   "metadata": {},
   "outputs": [],
   "source": [
    "def get_table(table_name):\n",
    "    \"\"\"This function uses the connection to lahman_baseball database to return a dataframe of all the data in the table\"\"\"\n",
    "    sql = f'SELECT * FROM {table_name};'\n",
    "    return pd.read_sql(sql, con=engine)"
   ]
  },
  {
   "cell_type": "markdown",
   "metadata": {},
   "source": [
    "---\n",
    "# Question 1: What range of years does the provided database cover?"
   ]
  },
  {
   "cell_type": "markdown",
   "metadata": {},
   "source": [
    "### Database Documentation: http://www.seanlahman.com/files/database/readme2017.txt\n",
    "\n",
    "### This documentation indicates that People, Batting, Pitching, and Fielding are the main tables"
   ]
  },
  {
   "cell_type": "code",
   "execution_count": 28,
   "metadata": {},
   "outputs": [],
   "source": [
    "people_df = get_table('people')\n",
    "\n",
    "batting_df = get_table('batting')\n",
    "\n",
    "pitching_df = get_table('pitching')\n",
    "\n",
    "fielding_df = get_table('fielding')"
   ]
  },
  {
   "cell_type": "code",
   "execution_count": 29,
   "metadata": {},
   "outputs": [
    {
     "data": {
      "text/plain": [
       "Index(['playerid', 'birthyear', 'birthmonth', 'birthday', 'birthcountry',\n",
       "       'birthstate', 'birthcity', 'deathyear', 'deathmonth', 'deathday',\n",
       "       'deathcountry', 'deathstate', 'deathcity', 'namefirst', 'namelast',\n",
       "       'namegiven', 'weight', 'height', 'bats', 'throws', 'debut', 'finalgame',\n",
       "       'retroid', 'bbrefid'],\n",
       "      dtype='object')"
      ]
     },
     "execution_count": 29,
     "metadata": {},
     "output_type": "execute_result"
    }
   ],
   "source": [
    "# Only birthyear in player table, not really 'baseball statistics data'\n",
    "\n",
    "people_df.columns"
   ]
  },
  {
   "cell_type": "code",
   "execution_count": 35,
   "metadata": {},
   "outputs": [
    {
     "name": "stdout",
     "output_type": "stream",
     "text": [
      "Batting Table Year Min: 1871\n",
      "\n",
      "Batting Table Year Max: 2016\n"
     ]
    }
   ],
   "source": [
    "# Batting table:\n",
    "\n",
    "print('Batting Table Year Min:', batting_df.yearid.min())\n",
    "print()\n",
    "print('Batting Table Year Max:', batting_df.yearid.max())"
   ]
  },
  {
   "cell_type": "code",
   "execution_count": 36,
   "metadata": {},
   "outputs": [
    {
     "name": "stdout",
     "output_type": "stream",
     "text": [
      "Pitching Table Year Min: 1871\n",
      "\n",
      "Pitching Table Year Max: 2016\n"
     ]
    }
   ],
   "source": [
    "# Pitching table:\n",
    "\n",
    "print('Pitching Table Year Min:', pitching_df.yearid.min())\n",
    "print()\n",
    "print('Pitching Table Year Max:', pitching_df.yearid.max())"
   ]
  },
  {
   "cell_type": "code",
   "execution_count": 37,
   "metadata": {},
   "outputs": [
    {
     "name": "stdout",
     "output_type": "stream",
     "text": [
      "Fielding Table Year Min: 1871\n",
      "\n",
      "Fielding Table Year Max: 2016\n"
     ]
    }
   ],
   "source": [
    "# Fielding table:\n",
    "\n",
    "print('Fielding Table Year Min:', fielding_df.yearid.min())\n",
    "print()\n",
    "print('Fielding Table Year Max:', fielding_df.yearid.max())"
   ]
  },
  {
   "cell_type": "markdown",
   "metadata": {},
   "source": [
    "## Answer: The main tables cover 1871 - 2016\n",
    "---"
   ]
  },
  {
   "cell_type": "markdown",
   "metadata": {},
   "source": [
    "---\n",
    "# Question 2: Find the name and height of the shortest player in the database. How many games did he play in? What is the name of the team for which he played?"
   ]
  },
  {
   "cell_type": "code",
   "execution_count": 38,
   "metadata": {},
   "outputs": [],
   "source": [
    "people_df = get_table('people')\n",
    "\n",
    "appearances_df = get_table('appearances')\n",
    "\n",
    "teams_df = get_table('teams')"
   ]
  },
  {
   "cell_type": "code",
   "execution_count": 47,
   "metadata": {},
   "outputs": [
    {
     "data": {
      "text/html": [
       "<div>\n",
       "<style scoped>\n",
       "    .dataframe tbody tr th:only-of-type {\n",
       "        vertical-align: middle;\n",
       "    }\n",
       "\n",
       "    .dataframe tbody tr th {\n",
       "        vertical-align: top;\n",
       "    }\n",
       "\n",
       "    .dataframe thead th {\n",
       "        text-align: right;\n",
       "    }\n",
       "</style>\n",
       "<table border=\"1\" class=\"dataframe\">\n",
       "  <thead>\n",
       "    <tr style=\"text-align: right;\">\n",
       "      <th></th>\n",
       "      <th>playerid</th>\n",
       "      <th>namefirst</th>\n",
       "      <th>namelast</th>\n",
       "      <th>namegiven</th>\n",
       "      <th>height</th>\n",
       "    </tr>\n",
       "  </thead>\n",
       "  <tbody>\n",
       "    <tr>\n",
       "      <th>5843</th>\n",
       "      <td>gaedeed01</td>\n",
       "      <td>Eddie</td>\n",
       "      <td>Gaedel</td>\n",
       "      <td>Edward Carl</td>\n",
       "      <td>43.0</td>\n",
       "    </tr>\n",
       "  </tbody>\n",
       "</table>\n",
       "</div>"
      ],
      "text/plain": [
       "       playerid namefirst namelast    namegiven  height\n",
       "5843  gaedeed01     Eddie   Gaedel  Edward Carl    43.0"
      ]
     },
     "execution_count": 47,
     "metadata": {},
     "output_type": "execute_result"
    }
   ],
   "source": [
    "people_df[people_df.height == people_df.height.min()].loc[:,['playerid', 'namefirst', 'namelast', 'namegiven', 'height']]"
   ]
  },
  {
   "cell_type": "code",
   "execution_count": 70,
   "metadata": {},
   "outputs": [],
   "source": [
    "short_id = people_df[people_df.height == people_df.height.min()]['playerid'].to_string(index=False).strip()"
   ]
  },
  {
   "cell_type": "code",
   "execution_count": 76,
   "metadata": {},
   "outputs": [
    {
     "name": "stdout",
     "output_type": "stream",
     "text": [
      "Number of games played:  1\n"
     ]
    }
   ],
   "source": [
    "print('Number of games played:', appearances_df[appearances_df.playerid == short_id]['g_all'].to_string(index=False))"
   ]
  },
  {
   "cell_type": "code",
   "execution_count": 80,
   "metadata": {},
   "outputs": [],
   "source": [
    "team_id = appearances_df[appearances_df.playerid == short_id]['teamid'].to_string(index=False).strip()"
   ]
  },
  {
   "cell_type": "code",
   "execution_count": 95,
   "metadata": {},
   "outputs": [
    {
     "data": {
      "text/plain": [
       "'St. Louis Browns'"
      ]
     },
     "execution_count": 95,
     "metadata": {},
     "output_type": "execute_result"
    }
   ],
   "source": [
    "teams_df.name[teams_df.teamid == team_id].head(1).to_string(index=False).strip()"
   ]
  },
  {
   "cell_type": "markdown",
   "metadata": {},
   "source": [
    "## Answer: Eddie Gaedel was the shortest player. His height was 43.0 inches (see documentation for units). He played 1 game for the St. Louis Browns\n",
    "---"
   ]
  },
  {
   "cell_type": "markdown",
   "metadata": {},
   "source": [
    "---\n",
    "# Question 3: Find all players in the database who played at Vanderbilt University. Create a list showing each player’s first and last names as well as the total salary they earned in the major leagues. Sort this list in descending order by the total salary earned. Which Vanderbilt player earned the most money in the majors?"
   ]
  },
  {
   "cell_type": "code",
   "execution_count": 98,
   "metadata": {},
   "outputs": [],
   "source": [
    "people_df = get_table('people')\n",
    "\n",
    "collegeplaying_df = get_table('collegeplaying')\n",
    "\n",
    "schools_df = get_table('schools')\n",
    "\n",
    "salaries_df = get_table('salaries')"
   ]
  },
  {
   "cell_type": "code",
   "execution_count": 104,
   "metadata": {},
   "outputs": [
    {
     "data": {
      "text/plain": [
       "'vandy'"
      ]
     },
     "execution_count": 104,
     "metadata": {},
     "output_type": "execute_result"
    }
   ],
   "source": [
    "# Getting the schoolid of Vanderbilt University from the Schools table\n",
    "\n",
    "vandy_id = schools_df.schoolid[schools_df.schoolname == 'Vanderbilt University'].to_string(index=False).strip()"
   ]
  },
  {
   "cell_type": "code",
   "execution_count": 110,
   "metadata": {},
   "outputs": [
    {
     "data": {
      "text/plain": [
       "array(['alvarpe01', 'baxtemi01', 'chrisni01', 'colliwi01', 'corajo01',\n",
       "       'embresl01', 'flahery01', 'grayso01', 'hendrha01', 'katama01',\n",
       "       'lewisje01', 'madissc01', 'minormi01', 'mooresc01', 'mossma01',\n",
       "       'pauljo01', 'priceda01', 'priorma01', 'richaan01', 'sandesc01',\n",
       "       'sewelri01', 'sowerje01', 'willimi01', 'zeidjo01'], dtype=object)"
      ]
     },
     "execution_count": 110,
     "metadata": {},
     "output_type": "execute_result"
    }
   ],
   "source": [
    "# Getting a list of playerids from collegeplaying table with the Vanderbilt Unviersity schoolid\n",
    "\n",
    "vandy_players = collegeplaying_df[collegeplaying_df.schoolid == vandy_id].playerid.unique()"
   ]
  },
  {
   "cell_type": "code",
   "execution_count": 113,
   "metadata": {},
   "outputs": [],
   "source": [
    "# Making a dataframe by narrowing people down to only the columns of interest for players with playerid in vandy_players\n",
    "\n",
    "vandy_people = people_df[people_df.playerid.isin(vandy_players)].loc[:,['playerid', 'namefirst', 'namelast']]"
   ]
  },
  {
   "cell_type": "code",
   "execution_count": 124,
   "metadata": {},
   "outputs": [],
   "source": [
    "# Summing salaries by playerid across all years\n",
    "\n",
    "salary_sum = salaries_df.groupby(by = 'playerid', as_index = False)['salary'].sum()"
   ]
  },
  {
   "cell_type": "code",
   "execution_count": 136,
   "metadata": {},
   "outputs": [
    {
     "data": {
      "text/html": [
       "<div>\n",
       "<style scoped>\n",
       "    .dataframe tbody tr th:only-of-type {\n",
       "        vertical-align: middle;\n",
       "    }\n",
       "\n",
       "    .dataframe tbody tr th {\n",
       "        vertical-align: top;\n",
       "    }\n",
       "\n",
       "    .dataframe thead th {\n",
       "        text-align: right;\n",
       "    }\n",
       "</style>\n",
       "<table border=\"1\" class=\"dataframe\">\n",
       "  <thead>\n",
       "    <tr style=\"text-align: right;\">\n",
       "      <th></th>\n",
       "      <th>playerid</th>\n",
       "      <th>namefirst</th>\n",
       "      <th>namelast</th>\n",
       "      <th>salary</th>\n",
       "    </tr>\n",
       "  </thead>\n",
       "  <tbody>\n",
       "    <tr>\n",
       "      <th>0</th>\n",
       "      <td>madissc01</td>\n",
       "      <td>Scotti</td>\n",
       "      <td>Madison</td>\n",
       "      <td>135000.0</td>\n",
       "    </tr>\n",
       "    <tr>\n",
       "      <th>1</th>\n",
       "      <td>sowerje01</td>\n",
       "      <td>Jeremy</td>\n",
       "      <td>Sowers</td>\n",
       "      <td>384800.0</td>\n",
       "    </tr>\n",
       "    <tr>\n",
       "      <th>2</th>\n",
       "      <td>chrisni01</td>\n",
       "      <td>Nick</td>\n",
       "      <td>Christiani</td>\n",
       "      <td>500000.0</td>\n",
       "    </tr>\n",
       "    <tr>\n",
       "      <th>3</th>\n",
       "      <td>katama01</td>\n",
       "      <td>Matt</td>\n",
       "      <td>Kata</td>\n",
       "      <td>1060000.0</td>\n",
       "    </tr>\n",
       "    <tr>\n",
       "      <th>4</th>\n",
       "      <td>lewisje01</td>\n",
       "      <td>Jensen</td>\n",
       "      <td>Lewis</td>\n",
       "      <td>1234000.0</td>\n",
       "    </tr>\n",
       "    <tr>\n",
       "      <th>5</th>\n",
       "      <td>grayso01</td>\n",
       "      <td>Sonny</td>\n",
       "      <td>Gray</td>\n",
       "      <td>1542500.0</td>\n",
       "    </tr>\n",
       "    <tr>\n",
       "      <th>6</th>\n",
       "      <td>baxtemi01</td>\n",
       "      <td>Mike</td>\n",
       "      <td>Baxter</td>\n",
       "      <td>2094418.0</td>\n",
       "    </tr>\n",
       "    <tr>\n",
       "      <th>7</th>\n",
       "      <td>pauljo01</td>\n",
       "      <td>Josh</td>\n",
       "      <td>Paul</td>\n",
       "      <td>2640000.0</td>\n",
       "    </tr>\n",
       "    <tr>\n",
       "      <th>8</th>\n",
       "      <td>flahery01</td>\n",
       "      <td>Ryan</td>\n",
       "      <td>Flaherty</td>\n",
       "      <td>4061000.0</td>\n",
       "    </tr>\n",
       "    <tr>\n",
       "      <th>9</th>\n",
       "      <td>corajo01</td>\n",
       "      <td>Joey</td>\n",
       "      <td>Cora</td>\n",
       "      <td>5622500.0</td>\n",
       "    </tr>\n",
       "    <tr>\n",
       "      <th>10</th>\n",
       "      <td>minormi01</td>\n",
       "      <td>Mike</td>\n",
       "      <td>Minor</td>\n",
       "      <td>6837500.0</td>\n",
       "    </tr>\n",
       "    <tr>\n",
       "      <th>11</th>\n",
       "      <td>sandesc01</td>\n",
       "      <td>Scott</td>\n",
       "      <td>Sanderson</td>\n",
       "      <td>10750000.0</td>\n",
       "    </tr>\n",
       "    <tr>\n",
       "      <th>12</th>\n",
       "      <td>priorma01</td>\n",
       "      <td>Mark</td>\n",
       "      <td>Prior</td>\n",
       "      <td>12800000.0</td>\n",
       "    </tr>\n",
       "    <tr>\n",
       "      <th>13</th>\n",
       "      <td>alvarpe01</td>\n",
       "      <td>Pedro</td>\n",
       "      <td>Alvarez</td>\n",
       "      <td>20681704.0</td>\n",
       "    </tr>\n",
       "    <tr>\n",
       "      <th>14</th>\n",
       "      <td>priceda01</td>\n",
       "      <td>David</td>\n",
       "      <td>Price</td>\n",
       "      <td>81851296.0</td>\n",
       "    </tr>\n",
       "  </tbody>\n",
       "</table>\n",
       "</div>"
      ],
      "text/plain": [
       "     playerid namefirst    namelast      salary\n",
       "0   madissc01    Scotti     Madison    135000.0\n",
       "1   sowerje01    Jeremy      Sowers    384800.0\n",
       "2   chrisni01      Nick  Christiani    500000.0\n",
       "3    katama01      Matt        Kata   1060000.0\n",
       "4   lewisje01    Jensen       Lewis   1234000.0\n",
       "5    grayso01     Sonny        Gray   1542500.0\n",
       "6   baxtemi01      Mike      Baxter   2094418.0\n",
       "7    pauljo01      Josh        Paul   2640000.0\n",
       "8   flahery01      Ryan    Flaherty   4061000.0\n",
       "9    corajo01      Joey        Cora   5622500.0\n",
       "10  minormi01      Mike       Minor   6837500.0\n",
       "11  sandesc01     Scott   Sanderson  10750000.0\n",
       "12  priorma01      Mark       Prior  12800000.0\n",
       "13  alvarpe01     Pedro     Alvarez  20681704.0\n",
       "14  priceda01     David       Price  81851296.0"
      ]
     },
     "execution_count": 136,
     "metadata": {},
     "output_type": "execute_result"
    }
   ],
   "source": [
    "vandy_salaries = pd.merge(vandy_people, salary_sum, how = 'inner', on='playerid') \\\n",
    "                          .sort_values(by = ['salary']) \\\n",
    "                          .reset_index(drop = True)\n",
    "\n",
    "vandy_salaries"
   ]
  },
  {
   "cell_type": "markdown",
   "metadata": {},
   "source": [
    "## Answer: David Price earned the most money in the majors. $81,851,296\n",
    "---"
   ]
  },
  {
   "cell_type": "code",
   "execution_count": 137,
   "metadata": {},
   "outputs": [],
   "source": [
    "engine.dispose()"
   ]
  },
  {
   "cell_type": "code",
   "execution_count": null,
   "metadata": {},
   "outputs": [],
   "source": []
  }
 ],
 "metadata": {
  "kernelspec": {
   "display_name": "Python 3",
   "language": "python",
   "name": "python3"
  },
  "language_info": {
   "codemirror_mode": {
    "name": "ipython",
    "version": 3
   },
   "file_extension": ".py",
   "mimetype": "text/x-python",
   "name": "python",
   "nbconvert_exporter": "python",
   "pygments_lexer": "ipython3",
   "version": "3.8.2"
  }
 },
 "nbformat": 4,
 "nbformat_minor": 4
}
